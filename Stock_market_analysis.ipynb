{
  "nbformat": 4,
  "nbformat_minor": 0,
  "metadata": {
    "colab": {
      "name": "Stock_market_analysis.ipynb",
      "provenance": [],
      "collapsed_sections": [],
      "authorship_tag": "ABX9TyOkyK1FQKFDwv+3KfVWjBTO",
      "include_colab_link": true
    },
    "kernelspec": {
      "name": "python3",
      "display_name": "Python 3"
    }
  },
  "cells": [
    {
      "cell_type": "markdown",
      "metadata": {
        "id": "view-in-github",
        "colab_type": "text"
      },
      "source": [
        "<a href=\"https://colab.research.google.com/github/anirudh135/StockMarketAnalysis-BTP/blob/main/Stock_market_analysis.ipynb\" target=\"_parent\"><img src=\"https://colab.research.google.com/assets/colab-badge.svg\" alt=\"Open In Colab\"/></a>"
      ]
    },
    {
      "cell_type": "code",
      "metadata": {
        "id": "b0ISfs6vb4R8"
      },
      "source": [
        "import numpy as np \n",
        "import pandas as pd\n",
        "import keras\n",
        "import matplotlib.pyplot as plt\n",
        "from pandas.plotting import lag_plot\n",
        "from pandas import datetime\n",
        "from statsmodels.tsa.arima_model import ARIMA\n",
        "from statsmodels.tsa.holtwinters import ExponentialSmoothing\n",
        "from keras.models import Sequential\n",
        "from keras.layers import Dense\n",
        "from sklearn.preprocessing import StandardScaler\n",
        "from tensorflow.keras.layers import LSTM\n",
        "from tensorflow.keras.layers import Dropout\n",
        "from sklearn.preprocessing import MinMaxScaler\n"
      ],
      "execution_count": null,
      "outputs": []
    },
    {
      "cell_type": "code",
      "metadata": {
        "colab": {
          "base_uri": "https://localhost:8080/",
          "height": 204
        },
        "id": "ReUERbB2fuXq",
        "outputId": "f498fd42-b1fa-4827-8ce3-708231070611"
      },
      "source": [
        "df = pd.read_csv('itc_2019_dataset.csv')\n",
        "df.head()"
      ],
      "execution_count": null,
      "outputs": [
        {
          "output_type": "execute_result",
          "data": {
            "text/html": [
              "<div>\n",
              "<style scoped>\n",
              "    .dataframe tbody tr th:only-of-type {\n",
              "        vertical-align: middle;\n",
              "    }\n",
              "\n",
              "    .dataframe tbody tr th {\n",
              "        vertical-align: top;\n",
              "    }\n",
              "\n",
              "    .dataframe thead th {\n",
              "        text-align: right;\n",
              "    }\n",
              "</style>\n",
              "<table border=\"1\" class=\"dataframe\">\n",
              "  <thead>\n",
              "    <tr style=\"text-align: right;\">\n",
              "      <th></th>\n",
              "      <th>Date</th>\n",
              "      <th>Open</th>\n",
              "      <th>High</th>\n",
              "      <th>Low</th>\n",
              "      <th>Close</th>\n",
              "      <th>Adj Close</th>\n",
              "      <th>Volume</th>\n",
              "    </tr>\n",
              "  </thead>\n",
              "  <tbody>\n",
              "    <tr>\n",
              "      <th>0</th>\n",
              "      <td>2019-01-01</td>\n",
              "      <td>282.200012</td>\n",
              "      <td>283.549988</td>\n",
              "      <td>279.799988</td>\n",
              "      <td>282.700012</td>\n",
              "      <td>263.820862</td>\n",
              "      <td>2490548.0</td>\n",
              "    </tr>\n",
              "    <tr>\n",
              "      <th>1</th>\n",
              "      <td>2019-01-02</td>\n",
              "      <td>282.250000</td>\n",
              "      <td>283.250000</td>\n",
              "      <td>277.549988</td>\n",
              "      <td>280.600006</td>\n",
              "      <td>261.861084</td>\n",
              "      <td>9934187.0</td>\n",
              "    </tr>\n",
              "    <tr>\n",
              "      <th>2</th>\n",
              "      <td>2019-01-03</td>\n",
              "      <td>280.600006</td>\n",
              "      <td>282.450012</td>\n",
              "      <td>277.750000</td>\n",
              "      <td>278.850006</td>\n",
              "      <td>260.227936</td>\n",
              "      <td>6114946.0</td>\n",
              "    </tr>\n",
              "    <tr>\n",
              "      <th>3</th>\n",
              "      <td>2019-01-04</td>\n",
              "      <td>279.149994</td>\n",
              "      <td>282.950012</td>\n",
              "      <td>279.149994</td>\n",
              "      <td>280.950012</td>\n",
              "      <td>262.187714</td>\n",
              "      <td>7805148.0</td>\n",
              "    </tr>\n",
              "    <tr>\n",
              "      <th>4</th>\n",
              "      <td>2019-01-07</td>\n",
              "      <td>284.299988</td>\n",
              "      <td>285.250000</td>\n",
              "      <td>281.000000</td>\n",
              "      <td>281.649994</td>\n",
              "      <td>262.840973</td>\n",
              "      <td>9757529.0</td>\n",
              "    </tr>\n",
              "  </tbody>\n",
              "</table>\n",
              "</div>"
            ],
            "text/plain": [
              "         Date        Open        High  ...       Close   Adj Close     Volume\n",
              "0  2019-01-01  282.200012  283.549988  ...  282.700012  263.820862  2490548.0\n",
              "1  2019-01-02  282.250000  283.250000  ...  280.600006  261.861084  9934187.0\n",
              "2  2019-01-03  280.600006  282.450012  ...  278.850006  260.227936  6114946.0\n",
              "3  2019-01-04  279.149994  282.950012  ...  280.950012  262.187714  7805148.0\n",
              "4  2019-01-07  284.299988  285.250000  ...  281.649994  262.840973  9757529.0\n",
              "\n",
              "[5 rows x 7 columns]"
            ]
          },
          "metadata": {
            "tags": []
          },
          "execution_count": 304
        }
      ]
    },
    {
      "cell_type": "code",
      "metadata": {
        "colab": {
          "base_uri": "https://localhost:8080/"
        },
        "id": "syIt7s0oIevV",
        "outputId": "7ea3987e-96ae-40b4-e499-707c2a862729"
      },
      "source": [
        "df.info()"
      ],
      "execution_count": null,
      "outputs": [
        {
          "output_type": "stream",
          "text": [
            "<class 'pandas.core.frame.DataFrame'>\n",
            "RangeIndex: 242 entries, 0 to 241\n",
            "Data columns (total 7 columns):\n",
            " #   Column     Non-Null Count  Dtype  \n",
            "---  ------     --------------  -----  \n",
            " 0   Date       242 non-null    object \n",
            " 1   Open       241 non-null    float64\n",
            " 2   High       241 non-null    float64\n",
            " 3   Low        241 non-null    float64\n",
            " 4   Close      241 non-null    float64\n",
            " 5   Adj Close  241 non-null    float64\n",
            " 6   Volume     241 non-null    float64\n",
            "dtypes: float64(6), object(1)\n",
            "memory usage: 13.4+ KB\n"
          ],
          "name": "stdout"
        }
      ]
    },
    {
      "cell_type": "code",
      "metadata": {
        "id": "EHLBgKHUkzxO"
      },
      "source": [
        "df['Date'] = pd.to_datetime(df['Date'])\n",
        "df = df.dropna(axis=0)"
      ],
      "execution_count": null,
      "outputs": []
    },
    {
      "cell_type": "code",
      "metadata": {
        "colab": {
          "base_uri": "https://localhost:8080/",
          "height": 638
        },
        "id": "dZwzfJOdhyxb",
        "outputId": "bd2968ad-ace8-444b-e480-b43aceade637"
      },
      "source": [
        "# A positive linear trend (i.e. going upwards from left to right) is suggestive of positive autocorrelation\n",
        "plt.figure(figsize=(10,10))\n",
        "lag_plot(df['Open'], lag=1)\n",
        "plt.title('ITC Autocorrelation plot')"
      ],
      "execution_count": null,
      "outputs": [
        {
          "output_type": "execute_result",
          "data": {
            "text/plain": [
              "Text(0.5, 1.0, 'ITC Autocorrelation plot')"
            ]
          },
          "metadata": {
            "tags": []
          },
          "execution_count": 307
        },
        {
          "output_type": "display_data",
          "data": {
            "image/png": "[encoded data removed]",
            "text/plain": [
              "<Figure size 720x720 with 1 Axes>"
            ]
          },
          "metadata": {
            "tags": [],
            "needs_background": "light"
          }
        }
      ]
    },
    {
      "cell_type": "code",
      "metadata": {
        "colab": {
          "base_uri": "https://localhost:8080/"
        },
        "id": "D41LDOgRkjDK",
        "outputId": "63e33506-e222-4695-d5ac-f7d49e6f73f3"
      },
      "source": [
        "df.info()"
      ],
      "execution_count": null,
      "outputs": [
        {
          "output_type": "stream",
          "text": [
            "<class 'pandas.core.frame.DataFrame'>\n",
            "Int64Index: 241 entries, 0 to 241\n",
            "Data columns (total 7 columns):\n",
            " #   Column     Non-Null Count  Dtype         \n",
            "---  ------     --------------  -----         \n",
            " 0   Date       241 non-null    datetime64[ns]\n",
            " 1   Open       241 non-null    float64       \n",
            " 2   High       241 non-null    float64       \n",
            " 3   Low        241 non-null    float64       \n",
            " 4   Close      241 non-null    float64       \n",
            " 5   Adj Close  241 non-null    float64       \n",
            " 6   Volume     241 non-null    float64       \n",
            "dtypes: datetime64[ns](1), float64(6)\n",
            "memory usage: 15.1 KB\n"
          ],
          "name": "stdout"
        }
      ]
    },
    {
      "cell_type": "code",
      "metadata": {
        "id": "mtndrYEiigcw"
      },
      "source": [
        "train_data = df.loc[df.loc[:,'Date'] <= '2019-10-1']\n",
        "test_data = df.loc[df.loc[:,'Date'] >= '2019-10-1']"
      ],
      "execution_count": null,
      "outputs": []
    },
    {
      "cell_type": "code",
      "metadata": {
        "colab": {
          "base_uri": "https://localhost:8080/"
        },
        "id": "3_zj-40B9j4o",
        "outputId": "a13d306c-3393-4064-f0ef-c5229d428b0c"
      },
      "source": [
        "type(train_data)"
      ],
      "execution_count": null,
      "outputs": [
        {
          "output_type": "execute_result",
          "data": {
            "text/plain": [
              "pandas.core.frame.DataFrame"
            ]
          },
          "metadata": {
            "tags": []
          },
          "execution_count": 393
        }
      ]
    },
    {
      "cell_type": "code",
      "metadata": {
        "colab": {
          "base_uri": "https://localhost:8080/",
          "height": 475
        },
        "id": "m4gFr9Cali3r",
        "outputId": "e3baff67-a93c-4d6e-8462-05d1ebd706a5"
      },
      "source": [
        "plt.figure(figsize=(12,7))\n",
        "plt.title('ITC Prices')\n",
        "plt.xlabel('Dates')\n",
        "plt.ylabel('Prices')\n",
        "plt.plot(train_data['Date'],train_data['Open'], 'blue', label='Training Data')\n",
        "plt.plot(test_data['Date'],test_data['Open'], 'green', label='Testing Data')\n",
        "plt.legend()"
      ],
      "execution_count": null,
      "outputs": [
        {
          "output_type": "execute_result",
          "data": {
            "text/plain": [
              "<matplotlib.legend.Legend at 0x7fc3523b0a20>"
            ]
          },
          "metadata": {
            "tags": []
          },
          "execution_count": 310
        },
        {
          "output_type": "display_data",
          "data": {
            "image/png": "[encoded data removed]",
            "text/plain": [
              "<Figure size 864x504 with 1 Axes>"
            ]
          },
          "metadata": {
            "tags": [],
            "needs_background": "light"
          }
        }
      ]
    },
    {
      "cell_type": "code",
      "metadata": {
        "colab": {
          "base_uri": "https://localhost:8080/"
        },
        "id": "5Gat9YcUm_vO",
        "outputId": "329a10cd-1671-4433-e928-f7b391d2fa79"
      },
      "source": [
        "train_ar = train_data['Open'].values\n",
        "test_ar = test_data['Open'].values\n",
        "history = [x for x in train_ar]\n",
        "print(type(history))\n",
        "predictions = list()\n",
        "for t in range(len(test_ar)):\n",
        "    model = ARIMA(history, order=(5,1,0))\n",
        "    model_fit = model.fit(disp=0)\n",
        "    output = model_fit.forecast()\n",
        "    yhat = output[0]\n",
        "    predictions.append(yhat)\n",
        "    obs = test_ar[t]\n",
        "    history.append(obs)\n"
      ],
      "execution_count": null,
      "outputs": [
        {
          "output_type": "stream",
          "text": [
            "<class 'list'>\n"
          ],
          "name": "stdout"
        }
      ]
    },
    {
      "cell_type": "code",
      "metadata": {
        "id": "BpE_JcevoTuh"
      },
      "source": [
        "def mean_absolute_percentage_error(y_true, y_pred): \n",
        "    y_true, y_pred = np.array(y_true), np.array(y_pred)\n",
        "    return np.mean(np.abs((y_true - y_pred) / y_true)) * 100"
      ],
      "execution_count": null,
      "outputs": []
    },
    {
      "cell_type": "code",
      "metadata": {
        "colab": {
          "base_uri": "https://localhost:8080/"
        },
        "id": "gGuxXlFZosXB",
        "outputId": "37513430-cd6a-4316-ee2b-1bd731080950"
      },
      "source": [
        "MAPE_arima = mean_absolute_percentage_error(test_ar, predictions)\n",
        "print('Testing Mean Squared Error: %.3f' % MAPE_arima)"
      ],
      "execution_count": null,
      "outputs": [
        {
          "output_type": "stream",
          "text": [
            "Testing Mean Squared Error: 3.534\n"
          ],
          "name": "stdout"
        }
      ]
    },
    {
      "cell_type": "code",
      "metadata": {
        "id": "w8IY8eNq7693"
      },
      "source": [
        "#Holt winter model"
      ],
      "execution_count": null,
      "outputs": []
    },
    {
      "cell_type": "code",
      "metadata": {
        "id": "mX0XMkP7IqZz"
      },
      "source": [
        "df.Date.freq = 'MS'"
      ],
      "execution_count": null,
      "outputs": []
    },
    {
      "cell_type": "code",
      "metadata": {
        "colab": {
          "base_uri": "https://localhost:8080/"
        },
        "id": "KpZXCgGJJ00y",
        "outputId": "551c642a-41cf-46c8-b451-95d8a8c50c1d"
      },
      "source": [
        "train_hw = train_data.iloc[:,1]\n",
        "test_hw = test_data.iloc[:,1]\n",
        "model = ExponentialSmoothing(train_hw, seasonal='mul', seasonal_periods=7).fit()\n",
        "pred = model.predict(start=test_hw.index[1], end=test_hw.index[-1])"
      ],
      "execution_count": null,
      "outputs": [
        {
          "output_type": "stream",
          "text": [
            "/usr/local/lib/python3.6/dist-packages/statsmodels/tsa/holtwinters.py:712: ConvergenceWarning: Optimization failed to converge. Check mle_retvals.\n",
            "  ConvergenceWarning)\n"
          ],
          "name": "stderr"
        }
      ]
    },
    {
      "cell_type": "code",
      "metadata": {
        "colab": {
          "base_uri": "https://localhost:8080/"
        },
        "id": "gApQH0PvCf3Q",
        "outputId": "6a03ee7d-e1d0-4c11-a029-59a03afbc4ac"
      },
      "source": [
        "MAPE_hw = mean_absolute_percentage_error(test_hw, pred)\n",
        "print('Testing Mean Squared Error: %.3f' % MAPE_hw)"
      ],
      "execution_count": null,
      "outputs": [
        {
          "output_type": "stream",
          "text": [
            "Testing Mean Squared Error: 4.332\n"
          ],
          "name": "stdout"
        }
      ]
    },
    {
      "cell_type": "code",
      "metadata": {
        "id": "7YfdMe33M7x5"
      },
      "source": [
        "#Artificial Neural Network"
      ],
      "execution_count": null,
      "outputs": []
    },
    {
      "cell_type": "code",
      "metadata": {
        "id": "0k7sGjU9TOrt"
      },
      "source": [
        "X_Train,y_Train =  train_data.iloc[:,2:-1],train_data.iloc[:,1]\n",
        "X_Test,y_Test = test_data.iloc[:,2:-1],test_data.iloc[:,1]"
      ],
      "execution_count": null,
      "outputs": []
    },
    {
      "cell_type": "code",
      "metadata": {
        "colab": {
          "base_uri": "https://localhost:8080/"
        },
        "id": "iAI37MkEVaiL",
        "outputId": "884070f3-56a7-4f14-b8bb-0f6e1f9c9f92"
      },
      "source": [
        "model1 = Sequential()\n",
        "model1.add(Dense(units = 32, activation = 'relu', input_dim = 4))\n",
        "model1.add(Dense(units= 32, activation = 'relu'))\n",
        "model1.add(Dense(units = 1))\n",
        "model1.compile(optimizer = 'adam', loss = 'mean_squared_error')\n",
        "model1.fit(X_Train, y_Train, batch_size = 10)"
      ],
      "execution_count": null,
      "outputs": [
        {
          "output_type": "stream",
          "text": [
            "19/19 [==============================] - 0s 1ms/step - loss: 2302.5439\n"
          ],
          "name": "stdout"
        },
        {
          "output_type": "execute_result",
          "data": {
            "text/plain": [
              "<tensorflow.python.keras.callbacks.History at 0x7fc34a883048>"
            ]
          },
          "metadata": {
            "tags": []
          },
          "execution_count": 352
        }
      ]
    },
    {
      "cell_type": "code",
      "metadata": {
        "colab": {
          "base_uri": "https://localhost:8080/"
        },
        "id": "CPp9T1ssiUGN",
        "outputId": "c5533dbf-2c96-4f56-eec0-305740dab8ce"
      },
      "source": [
        "y_pred = model1.predict(X_Test)"
      ],
      "execution_count": null,
      "outputs": [
        {
          "output_type": "stream",
          "text": [
            "WARNING:tensorflow:6 out of the last 11 calls to <function Model.make_predict_function.<locals>.predict_function at 0x7fc34a041d90> triggered tf.function retracing. Tracing is expensive and the excessive number of tracings could be due to (1) creating @tf.function repeatedly in a loop, (2) passing tensors with different shapes, (3) passing Python objects instead of tensors. For (1), please define your @tf.function outside of the loop. For (2), @tf.function has experimental_relax_shapes=True option that relaxes argument shapes that can avoid unnecessary retracing. For (3), please refer to https://www.tensorflow.org/tutorials/customization/performance#python_or_tensor_args and https://www.tensorflow.org/api_docs/python/tf/function for  more details.\n"
          ],
          "name": "stdout"
        }
      ]
    },
    {
      "cell_type": "code",
      "metadata": {
        "colab": {
          "base_uri": "https://localhost:8080/"
        },
        "id": "oWDIwB8rqqNK",
        "outputId": "e6aafb96-cb79-4953-c134-181032f46c66"
      },
      "source": [
        "MAPE_ANN = mean_absolute_percentage_error(Y_Test,y_pred)\n",
        "print('Testing Mean Squared Error: %.3f' % MAPE_ANN)"
      ],
      "execution_count": null,
      "outputs": [
        {
          "output_type": "stream",
          "text": [
            "Testing Mean Squared Error: 8.567\n"
          ],
          "name": "stdout"
        }
      ]
    },
    {
      "cell_type": "code",
      "metadata": {
        "id": "f4I4uTDEtjlt"
      },
      "source": [
        "#Recurring Neural Network"
      ],
      "execution_count": null,
      "outputs": []
    },
    {
      "cell_type": "code",
      "metadata": {
        "id": "yCNuNpsu1s6i"
      },
      "source": [
        "training_data = train_data.iloc[:,1].values\n",
        "scaler = MinMaxScaler()\n",
        "training_data = scaler.fit_transform(training_data.reshape(-1, 1))"
      ],
      "execution_count": null,
      "outputs": []
    },
    {
      "cell_type": "code",
      "metadata": {
        "id": "HhTyIuKZ_M8s"
      },
      "source": [
        "test_data1 = test_data.iloc[:,1].values\n",
        "test_data1 = scaler.fit_transform(test_data1.reshape(-1, 1))\n",
        "test_data1 = np.array(test_data1)\n",
        "test_data1 = np.reshape(test_data1, (test_data1.shape[0], test_data1.shape[1], 1))"
      ],
      "execution_count": null,
      "outputs": []
    },
    {
      "cell_type": "code",
      "metadata": {
        "id": "7Z0JQ2ei2x0z"
      },
      "source": [
        "x_training_data = []\n",
        "\n",
        "y_training_data =[]\n",
        "for i in range(120, len(training_data)):\n",
        "    x_training_data.append(training_data[i-120:i, 0])\n",
        "    y_training_data.append(training_data[i, 0])\n",
        "\n"
      ],
      "execution_count": null,
      "outputs": []
    },
    {
      "cell_type": "code",
      "metadata": {
        "id": "2-68D7sZ9JpE"
      },
      "source": [
        "x_training_data = np.array(x_training_data)\n",
        "y_training_data = np.array(y_training_data)"
      ],
      "execution_count": null,
      "outputs": []
    },
    {
      "cell_type": "code",
      "metadata": {
        "id": "mNxz-vxw9xPO"
      },
      "source": [
        "x_training_data = np.reshape(x_training_data, (x_training_data.shape[0], x_training_data.shape[1], 1))"
      ],
      "execution_count": null,
      "outputs": []
    },
    {
      "cell_type": "code",
      "metadata": {
        "colab": {
          "base_uri": "https://localhost:8080/"
        },
        "id": "jkK_bB19tswt",
        "outputId": "f16a8533-6c12-4429-9117-47328a9c99eb"
      },
      "source": [
        "rnn = Sequential()\n",
        "rnn.add(LSTM(units = 6, return_sequences = True, input_shape = (4, 1)))\n",
        "rnn.add(Dropout(0.2))\n",
        "for i in [True, True, False]:\n",
        "  rnn.add(LSTM(units = 45, return_sequences = i))\n",
        "  rnn.add(Dropout(0.2))\n",
        "rnn.add(Dense(units = 1))\n",
        "rnn.compile(optimizer = 'adam', loss = 'mean_squared_error')\n",
        "rnn.fit(x_training_data,y_training_data, batch_size = 10)"
      ],
      "execution_count": null,
      "outputs": [
        {
          "output_type": "stream",
          "text": [
            "WARNING:tensorflow:Model was constructed with shape (None, 4, 1) for input Tensor(\"lstm_20_input:0\", shape=(None, 4, 1), dtype=float32), but it was called on an input with incompatible shape (None, 120, 1).\n",
            "WARNING:tensorflow:Model was constructed with shape (None, 4, 1) for input Tensor(\"lstm_20_input:0\", shape=(None, 4, 1), dtype=float32), but it was called on an input with incompatible shape (None, 120, 1).\n",
            "7/7 [==============================] - 1s 124ms/step - loss: 0.0555\n"
          ],
          "name": "stdout"
        },
        {
          "output_type": "execute_result",
          "data": {
            "text/plain": [
              "<tensorflow.python.keras.callbacks.History at 0x7fc346045550>"
            ]
          },
          "metadata": {
            "tags": []
          },
          "execution_count": 400
        }
      ]
    },
    {
      "cell_type": "code",
      "metadata": {
        "colab": {
          "base_uri": "https://localhost:8080/"
        },
        "id": "V4qRNhT58TOR",
        "outputId": "180ed006-333c-4503-eb30-ecfd64264797"
      },
      "source": [
        "prediction_rnn = rnn.predict(test_data1)"
      ],
      "execution_count": null,
      "outputs": [
        {
          "output_type": "stream",
          "text": [
            "WARNING:tensorflow:Model was constructed with shape (None, 4, 1) for input Tensor(\"lstm_20_input:0\", shape=(None, 4, 1), dtype=float32), but it was called on an input with incompatible shape (None, 1, 1).\n",
            "WARNING:tensorflow:6 out of the last 11 calls to <function Model.make_predict_function.<locals>.predict_function at 0x7fc3454c0488> triggered tf.function retracing. Tracing is expensive and the excessive number of tracings could be due to (1) creating @tf.function repeatedly in a loop, (2) passing tensors with different shapes, (3) passing Python objects instead of tensors. For (1), please define your @tf.function outside of the loop. For (2), @tf.function has experimental_relax_shapes=True option that relaxes argument shapes that can avoid unnecessary retracing. For (3), please refer to https://www.tensorflow.org/tutorials/customization/performance#python_or_tensor_args and https://www.tensorflow.org/api_docs/python/tf/function for  more details.\n"
          ],
          "name": "stdout"
        }
      ]
    },
    {
      "cell_type": "code",
      "metadata": {
        "id": "G_dthqlXBJ1f"
      },
      "source": [
        "prediction_rnn = scaler.inverse_transform(prediction_rnn)"
      ],
      "execution_count": null,
      "outputs": []
    },
    {
      "cell_type": "code",
      "metadata": {
        "colab": {
          "base_uri": "https://localhost:8080/"
        },
        "id": "MXp7TVmCBum3",
        "outputId": "7e9fe95b-cc87-46fe-c767-665a622a0dd7"
      },
      "source": [
        "MAPE_RNN = mean_absolute_percentage_error(Y_Test,y_pred)\n",
        "print('Testing Mean Squared Error: %.3f' % MAPE_RNN)"
      ],
      "execution_count": null,
      "outputs": [
        {
          "output_type": "stream",
          "text": [
            "Testing Mean Squared Error: 8.567\n"
          ],
          "name": "stdout"
        }
      ]
    },
    {
      "cell_type": "code",
      "metadata": {
        "id": "VS4kLslICC9y"
      },
      "source": [
        ""
      ],
      "execution_count": null,
      "outputs": []
    }
  ]
}